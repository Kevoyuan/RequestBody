{
 "cells": [
  {
   "cell_type": "code",
   "execution_count": 51,
   "metadata": {},
   "outputs": [],
   "source": [
    "text = \"I am planning to order the IX with a sunroof or panorama glass roof sky lounge, and the EU Comfort Package on 12th April 2018. Is this configuration possible?\""
   ]
  },
  {
   "attachments": {},
   "cell_type": "markdown",
   "metadata": {},
   "source": [
    "Mapping of configuration"
   ]
  },
  {
   "cell_type": "code",
   "execution_count": 52,
   "metadata": {},
   "outputs": [
    {
     "name": "stdout",
     "output_type": "stream",
     "text": [
      "['Panorama Glass Roof', 'Panorama Roof Glass', 'Glass Panorama Roof', 'Glass Roof Panorama', 'Roof Panorama Glass', 'Roof Glass Panorama']\n",
      "['Panorama Glass Roof Sky Lounge', 'Panorama Glass Roof Lounge Sky', 'Panorama Glass Sky Roof Lounge', 'Panorama Glass Sky Lounge Roof', 'Panorama Glass Lounge Roof Sky', 'Panorama Glass Lounge Sky Roof', 'Panorama Roof Glass Sky Lounge', 'Panorama Roof Glass Lounge Sky', 'Panorama Roof Sky Glass Lounge', 'Panorama Roof Sky Lounge Glass', 'Panorama Roof Lounge Glass Sky', 'Panorama Roof Lounge Sky Glass', 'Panorama Sky Glass Roof Lounge', 'Panorama Sky Glass Lounge Roof', 'Panorama Sky Roof Glass Lounge', 'Panorama Sky Roof Lounge Glass', 'Panorama Sky Lounge Glass Roof', 'Panorama Sky Lounge Roof Glass', 'Panorama Lounge Glass Roof Sky', 'Panorama Lounge Glass Sky Roof', 'Panorama Lounge Roof Glass Sky', 'Panorama Lounge Roof Sky Glass', 'Panorama Lounge Sky Glass Roof', 'Panorama Lounge Sky Roof Glass', 'Glass Panorama Roof Sky Lounge', 'Glass Panorama Roof Lounge Sky', 'Glass Panorama Sky Roof Lounge', 'Glass Panorama Sky Lounge Roof', 'Glass Panorama Lounge Roof Sky', 'Glass Panorama Lounge Sky Roof', 'Glass Roof Panorama Sky Lounge', 'Glass Roof Panorama Lounge Sky', 'Glass Roof Sky Panorama Lounge', 'Glass Roof Sky Lounge Panorama', 'Glass Roof Lounge Panorama Sky', 'Glass Roof Lounge Sky Panorama', 'Glass Sky Panorama Roof Lounge', 'Glass Sky Panorama Lounge Roof', 'Glass Sky Roof Panorama Lounge', 'Glass Sky Roof Lounge Panorama', 'Glass Sky Lounge Panorama Roof', 'Glass Sky Lounge Roof Panorama', 'Glass Lounge Panorama Roof Sky', 'Glass Lounge Panorama Sky Roof', 'Glass Lounge Roof Panorama Sky', 'Glass Lounge Roof Sky Panorama', 'Glass Lounge Sky Panorama Roof', 'Glass Lounge Sky Roof Panorama', 'Roof Panorama Glass Sky Lounge', 'Roof Panorama Glass Lounge Sky', 'Roof Panorama Sky Glass Lounge', 'Roof Panorama Sky Lounge Glass', 'Roof Panorama Lounge Glass Sky', 'Roof Panorama Lounge Sky Glass', 'Roof Glass Panorama Sky Lounge', 'Roof Glass Panorama Lounge Sky', 'Roof Glass Sky Panorama Lounge', 'Roof Glass Sky Lounge Panorama', 'Roof Glass Lounge Panorama Sky', 'Roof Glass Lounge Sky Panorama', 'Roof Sky Panorama Glass Lounge', 'Roof Sky Panorama Lounge Glass', 'Roof Sky Glass Panorama Lounge', 'Roof Sky Glass Lounge Panorama', 'Roof Sky Lounge Panorama Glass', 'Roof Sky Lounge Glass Panorama', 'Roof Lounge Panorama Glass Sky', 'Roof Lounge Panorama Sky Glass', 'Roof Lounge Glass Panorama Sky', 'Roof Lounge Glass Sky Panorama', 'Roof Lounge Sky Panorama Glass', 'Roof Lounge Sky Glass Panorama', 'Sky Panorama Glass Roof Lounge', 'Sky Panorama Glass Lounge Roof', 'Sky Panorama Roof Glass Lounge', 'Sky Panorama Roof Lounge Glass', 'Sky Panorama Lounge Glass Roof', 'Sky Panorama Lounge Roof Glass', 'Sky Glass Panorama Roof Lounge', 'Sky Glass Panorama Lounge Roof', 'Sky Glass Roof Panorama Lounge', 'Sky Glass Roof Lounge Panorama', 'Sky Glass Lounge Panorama Roof', 'Sky Glass Lounge Roof Panorama', 'Sky Roof Panorama Glass Lounge', 'Sky Roof Panorama Lounge Glass', 'Sky Roof Glass Panorama Lounge', 'Sky Roof Glass Lounge Panorama', 'Sky Roof Lounge Panorama Glass', 'Sky Roof Lounge Glass Panorama', 'Sky Lounge Panorama Glass Roof', 'Sky Lounge Panorama Roof Glass', 'Sky Lounge Glass Panorama Roof', 'Sky Lounge Glass Roof Panorama', 'Sky Lounge Roof Panorama Glass', 'Sky Lounge Roof Glass Panorama', 'Lounge Panorama Glass Roof Sky', 'Lounge Panorama Glass Sky Roof', 'Lounge Panorama Roof Glass Sky', 'Lounge Panorama Roof Sky Glass', 'Lounge Panorama Sky Glass Roof', 'Lounge Panorama Sky Roof Glass', 'Lounge Glass Panorama Roof Sky', 'Lounge Glass Panorama Sky Roof', 'Lounge Glass Roof Panorama Sky', 'Lounge Glass Roof Sky Panorama', 'Lounge Glass Sky Panorama Roof', 'Lounge Glass Sky Roof Panorama', 'Lounge Roof Panorama Glass Sky', 'Lounge Roof Panorama Sky Glass', 'Lounge Roof Glass Panorama Sky', 'Lounge Roof Glass Sky Panorama', 'Lounge Roof Sky Panorama Glass', 'Lounge Roof Sky Glass Panorama', 'Lounge Sky Panorama Glass Roof', 'Lounge Sky Panorama Roof Glass', 'Lounge Sky Glass Panorama Roof', 'Lounge Sky Glass Roof Panorama', 'Lounge Sky Roof Panorama Glass', 'Lounge Sky Roof Glass Panorama']\n",
      "['Sunroof']\n",
      "['P7LGA', 'S402A', 'S407A', 'S403A']\n"
     ]
    }
   ],
   "source": [
    "from itertools import permutations\n",
    "\n",
    "SteeringWheel_mapping = {\n",
    "    'Left-Hand': 'LL',\n",
    "    'Right-Hand': 'RL',\n",
    "}\n",
    "\n",
    "AvailablePackages_mapping = {\n",
    "    'M Sport': 'P337A',\n",
    "    'M Sport Pro': 'P33BA',\n",
    "    'Comfort EU': 'P7LGA',\n",
    "}\n",
    "\n",
    "Roof_mapping = {\n",
    "    'Panorama Glass Roof': 'S402A',\n",
    "    'Panorama Glass Roof Sky Lounge': 'S407A',\n",
    "    'Sunroof': 'S403A',\n",
    "}\n",
    "\n",
    "matched_confs = []\n",
    "\n",
    "for model in SteeringWheel_mapping.keys():\n",
    "    \n",
    "    model_words = model.split()\n",
    "    # print(model_words)\n",
    "    \n",
    "    # Generate all permutations of the words\n",
    "    model_permutations = [' '.join(perm) for perm in permutations(model_words)]\n",
    "    # print(model_permutations)\n",
    "    \n",
    "    # Check if any of these permutations are in the text\n",
    "    if any(perm.lower() in text.lower() for perm in model_permutations):\n",
    "        matched_confs.append(SteeringWheel_mapping[model])\n",
    "        \n",
    "for model in AvailablePackages_mapping.keys():\n",
    "    model_words = model.split()\n",
    "    # print(model_words)\n",
    "    \n",
    "    # Generate all permutations of the words\n",
    "    model_permutations = [' '.join(perm) for perm in permutations(model_words)]\n",
    "    # print(model_permutations)\n",
    "    \n",
    "    # Check if any of these permutations are in the text\n",
    "    if any(perm.lower() in text.lower() for perm in model_permutations):\n",
    "        matched_confs.append(AvailablePackages_mapping[model])\n",
    "   \n",
    "\n",
    "# Roof_mapping_lower = {k.lower(): v for k, v in Roof_mapping.items()}\n",
    "\n",
    "\n",
    "\n",
    "for model in Roof_mapping.keys():\n",
    "    model_words = model.split()\n",
    "    # print(model_words)\n",
    "    \n",
    "    # Generate all permutations of the words\n",
    "    model_permutations = [' '.join(perm) for perm in permutations(model_words)]\n",
    "    print(model_permutations)\n",
    "    \n",
    "    # Check if any of these permutations are in the text\n",
    "    if any(perm.lower() in text.lower() for perm in model_permutations):\n",
    "        # print(Roof_mapping[model])\n",
    "        matched_confs.append(Roof_mapping[model]) \n",
    "        \n",
    "# for model in Roof_mapping.keys():\n",
    "#     if model.lower() in text.lower():\n",
    "#         # Check for exact match first\n",
    "#         if model.lower() in text.lower() and 'sky lounge' in model.lower():\n",
    "#             # print('Panorama Glass Roof Sky Lounge')\n",
    "            \n",
    "#             matched_confs.append(Roof_mapping[model])\n",
    "#         # Check for partial match with additional conditions\n",
    "#         elif model.lower() in text.lower() and 'sky lounge' not in text.lower():   \n",
    "#             matched_confs.append(Roof_mapping[model])\n",
    "#         elif model.lower() in text.lower():\n",
    "#             matched_confs.append(Roof_mapping[model])\n",
    " \n",
    "\n",
    "print(matched_confs) "
   ]
  },
  {
   "cell_type": "code",
   "execution_count": 53,
   "metadata": {},
   "outputs": [
    {
     "name": "stdout",
     "output_type": "stream",
     "text": [
      "['S407A', 'S403A']\n",
      "['P7LGA']\n",
      "[]\n"
     ]
    }
   ],
   "source": [
    "def match_phrase_in_text(text, dictionary):\n",
    "    # Convert text to lowercase\n",
    "    text = text.lower()\n",
    "\n",
    "    # Sort keys from longest to shortest\n",
    "    sorted_keys = sorted(dictionary.keys(), key=len, reverse=True)\n",
    "\n",
    "    # Create a dictionary to hold matches\n",
    "    matches = {}\n",
    "    matched_confs = []\n",
    "\n",
    "    # Check if any key is in the text\n",
    "    for key in sorted_keys:\n",
    "        lower_key = key.lower()\n",
    "        \n",
    "        lower_keys = lower_key.split()\n",
    "        # Generate all permutations of the words\n",
    "        lower_key_permutations = [' '.join(perm) for perm in permutations(lower_keys)]\n",
    "        \n",
    "        # Check if any of these permutations are in the text\n",
    "        if any(perm.lower() in text for perm in lower_key_permutations):\n",
    "        \n",
    "            # matches[key] = dictionary[key]\n",
    "            text = text.replace(lower_key, '')\n",
    "            matched_confs.append(dictionary[key])\n",
    "    # return matches.values()\n",
    "    return matched_confs\n",
    "\n",
    "\n",
    "\n",
    "# text = \"I am planning to order the BMW M8 with a sunroof or panorama glass roof sky lounge, and the M Sport Package on 12th April 2018. Is this configuration possible?\"\n",
    "\n",
    "Roof_matches_code = match_phrase_in_text(text, Roof_mapping)\n",
    "AvailablePackages_matches_code = match_phrase_in_text(text, AvailablePackages_mapping)\n",
    "SteeringWheel_matches_code = match_phrase_in_text(text, SteeringWheel_mapping)\n",
    "# Model_matches_code = match_phrase_in_text(text, Model_mapping)\n",
    "\n",
    "\n",
    "print(Roof_matches_code)  \n",
    "print(AvailablePackages_matches_code)  \n",
    "print(SteeringWheel_matches_code)  \n",
    "# print(Model_matches_code)  \n",
    "\n",
    "\n",
    "# Output: {'Panorama Glass Roof Sky Lounge': 'S407A', 'Sunroof': 'S403A'}\n"
   ]
  },
  {
   "attachments": {},
   "cell_type": "markdown",
   "metadata": {},
   "source": [
    "Read Configuration Formulas"
   ]
  },
  {
   "attachments": {},
   "cell_type": "markdown",
   "metadata": {},
   "source": [
    "Read Date"
   ]
  },
  {
   "cell_type": "code",
   "execution_count": 54,
   "metadata": {},
   "outputs": [
    {
     "name": "stdout",
     "output_type": "stream",
     "text": [
      "2018-04-12\n"
     ]
    }
   ],
   "source": [
    "from dateutil.parser import parse\n",
    "from datetime import datetime\n",
    "from dateutil.relativedelta import relativedelta\n",
    "import re\n",
    "\n",
    "\n",
    "# Clean the text\n",
    "# Trim leading and trailing whitespaces\n",
    "date_text = text.strip()\n",
    "\n",
    "# Remove multiple whitespaces\n",
    "date_text  = re.sub(r'\\s+', ' ', date_text )\n",
    "\n",
    "# Remove symbols \n",
    "date_text = re.sub(r'\\W+', ' ', date_text)\n",
    "\n",
    "# Parse the date from the text\n",
    "datetime_obj = parse(date_text , fuzzy=True, dayfirst=True)\n",
    "\n",
    "\n",
    "# Get the date part only\n",
    "day = datetime_obj.day\n",
    "month = datetime_obj.month\n",
    "year = datetime_obj.year\n",
    "\n",
    "\n",
    "# Extract the date string and add the day\n",
    "date_str = f\"1 {month} {year}\"\n",
    "\n",
    "# parse the date with month as a number\n",
    "date = datetime.strptime(date_str, '%d %m %Y')\n",
    "\n",
    "# Check if the text matches the pattern \"end Month Year\"\n",
    "match_end = re.search(r'end', text, re.IGNORECASE)    \n",
    "match_start = re.search(r'start', text, re.IGNORECASE)    \n",
    "\n",
    "format_string = '%Y-%m-%d'\n",
    "\n",
    "if match_end:\n",
    "    # Add one month to the date, and then subtract one day to get the last day of the original month\n",
    "    last_day = date + relativedelta(months=1) - relativedelta(days=1)\n",
    "    formatted_date = last_day.strftime(format_string)\n",
    "    \n",
    "elif match_start:\n",
    "    formatted_date = date.strftime(format_string)\n",
    "\n",
    "else:\n",
    "     formatted_date = datetime_obj.strftime(format_string)\n",
    "    \n",
    "print(formatted_date) "
   ]
  },
  {
   "attachments": {},
   "cell_type": "markdown",
   "metadata": {},
   "source": [
    "Extract the sales description, model type"
   ]
  },
  {
   "cell_type": "code",
   "execution_count": 55,
   "metadata": {},
   "outputs": [
    {
     "name": "stdout",
     "output_type": "stream",
     "text": [
      "['21CF', '11CF']\n"
     ]
    }
   ],
   "source": [
    "Model_mapping = {\n",
    "    'iX xDrive50': '21CF',\n",
    "    'iX xDrive40': '11CF',\n",
    "    'X7 xDrive40i': '21EM',\n",
    "    'X7 xDrive40d': '21EN',\n",
    "    'M8': 'DZ01',\n",
    "    '318i': '28FF'\n",
    "}\n",
    "\n",
    "matched_models = []\n",
    "\n",
    "# First check for exact matches\n",
    "for model in Model_mapping.keys():\n",
    "    if model.lower() in text.lower():\n",
    "        matched_models.append(Model_mapping[model])\n",
    "\n",
    "# If no exact match was found, check for partial matches\n",
    "if not matched_models:\n",
    "    for model in Model_mapping.keys():\n",
    "        # Split the model name into words\n",
    "        model_words = model.split()\n",
    "        # Check if any of these words are in the text\n",
    "        if any(word.lower() in text.lower() for word in model_words):\n",
    "            matched_models.append(Model_mapping[model])\n",
    "\n",
    "\n",
    "\n",
    "            \n",
    "print(matched_models)"
   ]
  },
  {
   "cell_type": "code",
   "execution_count": 56,
   "metadata": {},
   "outputs": [
    {
     "data": {
      "text/plain": [
       "['21CF', '11CF']"
      ]
     },
     "execution_count": 56,
     "metadata": {},
     "output_type": "execute_result"
    }
   ],
   "source": [
    "def match_model_in_text(text, dictionary):\n",
    "\n",
    "    matched_models = []\n",
    "\n",
    "    # First check for exact matches\n",
    "    for model in dictionary.keys():\n",
    "        if model.lower() in text.lower():\n",
    "            matched_models.append(dictionary[model])\n",
    "\n",
    "    # If no exact match was found, check for partial matches\n",
    "    if not matched_models:\n",
    "        for model in dictionary.keys():\n",
    "            # Split the model name into words\n",
    "            model_words = model.split()\n",
    "            # Check if any of these words are in the text\n",
    "            if any(word.lower() in text.lower() for word in model_words):\n",
    "                matched_models.append(dictionary[model])\n",
    "                \n",
    "    return matched_models   \n",
    "\n",
    "match_model_in_text(text, Model_mapping)             "
   ]
  },
  {
   "cell_type": "code",
   "execution_count": 57,
   "metadata": {},
   "outputs": [
    {
     "data": {
      "text/plain": [
       "'2018-04-12'"
      ]
     },
     "execution_count": 57,
     "metadata": {},
     "output_type": "execute_result"
    }
   ],
   "source": [
    "def date_in_text(text):\n",
    "    # Clean the text\n",
    "    # Trim leading and trailing whitespaces\n",
    "    date_text = text.strip()\n",
    "\n",
    "    # Remove multiple whitespaces\n",
    "    date_text  = re.sub(r'\\s+', ' ', date_text )\n",
    "\n",
    "    # Remove symbols \n",
    "    date_text = re.sub(r'\\W+', ' ', date_text)\n",
    "\n",
    "    # Parse the date from the text\n",
    "    datetime_obj = parse(date_text , fuzzy=True, dayfirst=True)\n",
    "\n",
    "\n",
    "    # Get the date part only\n",
    "    day = datetime_obj.day\n",
    "    month = datetime_obj.month\n",
    "    year = datetime_obj.year\n",
    "\n",
    "    # Extract the date string and add the day\n",
    "    date_str = f\"1 {month} {year}\"\n",
    "\n",
    "    # parse the date with month as a number\n",
    "    date = datetime.strptime(date_str, '%d %m %Y')\n",
    "\n",
    "    # Check if the text matches the pattern \"end Month Year\"\n",
    "    match_end = re.search(r'end', text, re.IGNORECASE)    \n",
    "    match_start = re.search(r'start', text, re.IGNORECASE)    \n",
    "\n",
    "    format_string = '%Y-%m-%d'\n",
    "\n",
    "    if match_end:\n",
    "        # Add one month to the date, and then subtract one day to get the last day of the original month\n",
    "        last_day = date + relativedelta(months=1) - relativedelta(days=1)\n",
    "        formatted_date = last_day.strftime(format_string)\n",
    "        \n",
    "    elif match_start:\n",
    "        formatted_date = date.strftime(format_string)\n",
    "\n",
    "    else:\n",
    "        formatted_date = datetime_obj.strftime(format_string)\n",
    "        \n",
    "    return formatted_date\n",
    "\n",
    "date_in_text(text)"
   ]
  }
 ],
 "metadata": {
  "kernelspec": {
   "display_name": "Python 3",
   "language": "python",
   "name": "python3"
  },
  "language_info": {
   "codemirror_mode": {
    "name": "ipython",
    "version": 3
   },
   "file_extension": ".py",
   "mimetype": "text/x-python",
   "name": "python",
   "nbconvert_exporter": "python",
   "pygments_lexer": "ipython3",
   "version": "3.10.4"
  },
  "orig_nbformat": 4
 },
 "nbformat": 4,
 "nbformat_minor": 2
}
